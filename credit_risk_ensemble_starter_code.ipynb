{
 "cells": [
  {
   "cell_type": "code",
   "execution_count": 106,
   "metadata": {},
   "outputs": [],
   "source": [
    "import warnings\n",
    "warnings.filterwarnings('ignore')"
   ]
  },
  {
   "cell_type": "code",
   "execution_count": 107,
   "metadata": {},
   "outputs": [],
   "source": [
    "import numpy as np\n",
    "import pandas as pd\n",
    "from pathlib import Path\n",
    "from collections import Counter"
   ]
  },
  {
   "cell_type": "code",
   "execution_count": 108,
   "metadata": {},
   "outputs": [],
   "source": [
    "from sklearn.metrics import balanced_accuracy_score\n",
    "from sklearn.metrics import confusion_matrix\n",
    "from imblearn.metrics import classification_report_imbalanced\n",
    "from sklearn.preprocessing import LabelEncoder\n",
    "from sklearn.preprocessing import StandardScaler\n",
    "from sklearn.metrics import confusion_matrix, accuracy_score, classification_report\n",
    "from sklearn.metrics import confusion_matrix, accuracy_score, classification_report"
   ]
  },
  {
   "cell_type": "markdown",
   "metadata": {},
   "source": [
    "# Read the CSV and Perform Basic Data Cleaning"
   ]
  },
  {
   "cell_type": "code",
   "execution_count": 109,
   "metadata": {},
   "outputs": [],
   "source": [
    "# https://help.lendingclub.com/hc/en-us/articles/215488038-What-do-the-different-Note-statuses-mean-\n",
    "\n",
    "columns = [\n",
    "    \"loan_amnt\", \"int_rate\", \"installment\", \"home_ownership\",\n",
    "    \"annual_inc\", \"verification_status\", \"issue_d\", \"loan_status\",\n",
    "    \"pymnt_plan\", \"dti\", \"delinq_2yrs\", \"inq_last_6mths\",\n",
    "    \"open_acc\", \"pub_rec\", \"revol_bal\", \"total_acc\",\n",
    "    \"initial_list_status\", \"out_prncp\", \"out_prncp_inv\", \"total_pymnt\",\n",
    "    \"total_pymnt_inv\", \"total_rec_prncp\", \"total_rec_int\", \"total_rec_late_fee\",\n",
    "    \"recoveries\", \"collection_recovery_fee\", \"last_pymnt_amnt\", \"next_pymnt_d\",\n",
    "    \"collections_12_mths_ex_med\", \"policy_code\", \"application_type\", \"acc_now_delinq\",\n",
    "    \"tot_coll_amt\", \"tot_cur_bal\", \"open_acc_6m\", \"open_act_il\",\n",
    "    \"open_il_12m\", \"open_il_24m\", \"mths_since_rcnt_il\", \"total_bal_il\",\n",
    "    \"il_util\", \"open_rv_12m\", \"open_rv_24m\", \"max_bal_bc\",\n",
    "    \"all_util\", \"total_rev_hi_lim\", \"inq_fi\", \"total_cu_tl\",\n",
    "    \"inq_last_12m\", \"acc_open_past_24mths\", \"avg_cur_bal\", \"bc_open_to_buy\",\n",
    "    \"bc_util\", \"chargeoff_within_12_mths\", \"delinq_amnt\", \"mo_sin_old_il_acct\",\n",
    "    \"mo_sin_old_rev_tl_op\", \"mo_sin_rcnt_rev_tl_op\", \"mo_sin_rcnt_tl\", \"mort_acc\",\n",
    "    \"mths_since_recent_bc\", \"mths_since_recent_inq\", \"num_accts_ever_120_pd\", \"num_actv_bc_tl\",\n",
    "    \"num_actv_rev_tl\", \"num_bc_sats\", \"num_bc_tl\", \"num_il_tl\",\n",
    "    \"num_op_rev_tl\", \"num_rev_accts\", \"num_rev_tl_bal_gt_0\",\n",
    "    \"num_sats\", \"num_tl_120dpd_2m\", \"num_tl_30dpd\", \"num_tl_90g_dpd_24m\",\n",
    "    \"num_tl_op_past_12m\", \"pct_tl_nvr_dlq\", \"percent_bc_gt_75\", \"pub_rec_bankruptcies\",\n",
    "    \"tax_liens\", \"tot_hi_cred_lim\", \"total_bal_ex_mort\", \"total_bc_limit\",\n",
    "    \"total_il_high_credit_limit\", \"hardship_flag\", \"debt_settlement_flag\"\n",
    "]\n",
    "\n",
    "target = [\"loan_status\"]"
   ]
  },
  {
   "cell_type": "code",
   "execution_count": 110,
   "metadata": {},
   "outputs": [
    {
     "data": {
      "text/html": [
       "<div>\n",
       "<style scoped>\n",
       "    .dataframe tbody tr th:only-of-type {\n",
       "        vertical-align: middle;\n",
       "    }\n",
       "\n",
       "    .dataframe tbody tr th {\n",
       "        vertical-align: top;\n",
       "    }\n",
       "\n",
       "    .dataframe thead th {\n",
       "        text-align: right;\n",
       "    }\n",
       "</style>\n",
       "<table border=\"1\" class=\"dataframe\">\n",
       "  <thead>\n",
       "    <tr style=\"text-align: right;\">\n",
       "      <th></th>\n",
       "      <th>loan_amnt</th>\n",
       "      <th>int_rate</th>\n",
       "      <th>installment</th>\n",
       "      <th>home_ownership</th>\n",
       "      <th>annual_inc</th>\n",
       "      <th>verification_status</th>\n",
       "      <th>issue_d</th>\n",
       "      <th>loan_status</th>\n",
       "      <th>pymnt_plan</th>\n",
       "      <th>dti</th>\n",
       "      <th>...</th>\n",
       "      <th>pct_tl_nvr_dlq</th>\n",
       "      <th>percent_bc_gt_75</th>\n",
       "      <th>pub_rec_bankruptcies</th>\n",
       "      <th>tax_liens</th>\n",
       "      <th>tot_hi_cred_lim</th>\n",
       "      <th>total_bal_ex_mort</th>\n",
       "      <th>total_bc_limit</th>\n",
       "      <th>total_il_high_credit_limit</th>\n",
       "      <th>hardship_flag</th>\n",
       "      <th>debt_settlement_flag</th>\n",
       "    </tr>\n",
       "  </thead>\n",
       "  <tbody>\n",
       "    <tr>\n",
       "      <th>0</th>\n",
       "      <td>10500.0</td>\n",
       "      <td>0.1719</td>\n",
       "      <td>375.35</td>\n",
       "      <td>RENT</td>\n",
       "      <td>66000.0</td>\n",
       "      <td>Source Verified</td>\n",
       "      <td>Mar-2019</td>\n",
       "      <td>low_risk</td>\n",
       "      <td>n</td>\n",
       "      <td>27.24</td>\n",
       "      <td>...</td>\n",
       "      <td>85.7</td>\n",
       "      <td>100.0</td>\n",
       "      <td>0.0</td>\n",
       "      <td>0.0</td>\n",
       "      <td>65687.0</td>\n",
       "      <td>38199.0</td>\n",
       "      <td>2000.0</td>\n",
       "      <td>61987.0</td>\n",
       "      <td>N</td>\n",
       "      <td>N</td>\n",
       "    </tr>\n",
       "  </tbody>\n",
       "</table>\n",
       "<p>1 rows × 86 columns</p>\n",
       "</div>"
      ],
      "text/plain": [
       "   loan_amnt  int_rate  installment home_ownership  annual_inc  \\\n",
       "0    10500.0    0.1719       375.35           RENT     66000.0   \n",
       "\n",
       "  verification_status   issue_d loan_status pymnt_plan    dti  ...  \\\n",
       "0     Source Verified  Mar-2019    low_risk          n  27.24  ...   \n",
       "\n",
       "   pct_tl_nvr_dlq  percent_bc_gt_75  pub_rec_bankruptcies  tax_liens  \\\n",
       "0            85.7             100.0                   0.0        0.0   \n",
       "\n",
       "   tot_hi_cred_lim  total_bal_ex_mort total_bc_limit  \\\n",
       "0          65687.0            38199.0         2000.0   \n",
       "\n",
       "   total_il_high_credit_limit  hardship_flag  debt_settlement_flag  \n",
       "0                     61987.0              N                     N  \n",
       "\n",
       "[1 rows x 86 columns]"
      ]
     },
     "execution_count": 110,
     "metadata": {},
     "output_type": "execute_result"
    }
   ],
   "source": [
    "# Load the data\n",
    "file_path = ('LoanStats_2019Q1.csv')\n",
    "df = pd.read_csv(file_path, skiprows=1)[:-2]\n",
    "df = df.loc[:, columns].copy()\n",
    "\n",
    "# Drop the null columns where all values are null\n",
    "df = df.dropna(axis='columns', how='all')\n",
    "\n",
    "# Drop the null rows\n",
    "df = df.dropna()\n",
    "\n",
    "# Remove the `Issued` loan status\n",
    "issued_mask = df['loan_status'] != 'Issued'\n",
    "df = df.loc[issued_mask]\n",
    "\n",
    "# convert interest rate to numerical\n",
    "df['int_rate'] = df['int_rate'].str.replace('%', '')\n",
    "df['int_rate'] = df['int_rate'].astype('float') / 100\n",
    "\n",
    "\n",
    "# Convert the target column values to low_risk and high_risk based on their values\n",
    "x = {'Current': 'low_risk'}   \n",
    "df = df.replace(x)\n",
    "\n",
    "x = dict.fromkeys(['Late (31-120 days)', 'Late (16-30 days)', 'Default', 'In Grace Period'], 'high_risk')    \n",
    "df = df.replace(x)\n",
    "\n",
    "df.reset_index(inplace=True, drop=True)\n",
    "\n",
    "df.head(1)"
   ]
  },
  {
   "cell_type": "code",
   "execution_count": 111,
   "metadata": {},
   "outputs": [],
   "source": [
    "df2=df.drop(['issue_d', 'out_prncp_inv', 'total_pymnt_inv','next_pymnt_d'], axis = 1)\n",
    "#encode paymnet plan, initial_list_status, application type, hardship flag, debt_settlment_flag....\n",
    "le = LabelEncoder()\n",
    "df3 = df2.copy()\n",
    "df3['pymnt_plan'] = le.fit_transform(df2['pymnt_plan']) \n",
    "df3['initial_list_status'] = le.fit_transform(df2['initial_list_status'])\n",
    "df3['application_type']= le.fit_transform(df2['application_type'])\n",
    "df3['hardship_flag']= le.fit_transform(df2['hardship_flag'])\n",
    "df3['debt_settlement_flag']= le.fit_transform(df2['debt_settlement_flag'])\n",
    "df3['home_ownership'] = le.fit_transform(df2['home_ownership'])\n",
    "df3['verification_status'] = le.fit_transform(df2['verification_status'])\n"
   ]
  },
  {
   "cell_type": "markdown",
   "metadata": {},
   "source": [
    "# Split the Data into Training and Testing"
   ]
  },
  {
   "cell_type": "code",
   "execution_count": 112,
   "metadata": {},
   "outputs": [],
   "source": [
    "#get x & y\n",
    "#load status is the Y, so drop it for the X dataset\n",
    "X = df3.drop(columns=\"loan_status\") \n",
    "y = df3['loan_status'].to_frame() "
   ]
  },
  {
   "cell_type": "code",
   "execution_count": 113,
   "metadata": {},
   "outputs": [
    {
     "data": {
      "text/plain": [
       "low_risk     68470\n",
       "high_risk      347\n",
       "Name: loan_status, dtype: int64"
      ]
     },
     "execution_count": 113,
     "metadata": {},
     "output_type": "execute_result"
    }
   ],
   "source": [
    "# Check the balance of our target values\n",
    "y['loan_status'].value_counts()"
   ]
  },
  {
   "cell_type": "code",
   "execution_count": 114,
   "metadata": {},
   "outputs": [],
   "source": [
    "from sklearn.model_selection import train_test_split\n",
    "X_train, X_test, y_train, y_test = train_test_split(X, y, random_state=1)"
   ]
  },
  {
   "cell_type": "markdown",
   "metadata": {},
   "source": [
    "# Ensemble Learners\n",
    "\n",
    "In this section, you will compare two ensemble algorithms to determine which algorithm results in the best performance. You will train a Balanced Random Forest Classifier and an Easy Ensemble AdaBoost classifier . For each algorithm, be sure to complete the folliowing steps:\n",
    "\n",
    "1. Train the model using the training data. \n",
    "2. Calculate the balanced accuracy score from sklearn.metrics.\n",
    "3. Print the confusion matrix from sklearn.metrics.\n",
    "4. Generate a classication report using the `imbalanced_classification_report` from imbalanced-learn.\n",
    "5. For the Balanced Random Forest Classifier onely, print the feature importance sorted in descending order (most important feature to least important) along with the feature score\n",
    "\n",
    "Note: Use a random state of 1 for each algorithm to ensure consistency between tests"
   ]
  },
  {
   "cell_type": "code",
   "execution_count": 115,
   "metadata": {},
   "outputs": [],
   "source": [
    "### Balanced Random Forest Classifier\n",
    "\n",
    "from imblearn.ensemble import BalancedRandomForestClassifier\n",
    "rf_model = BalancedRandomForestClassifier(n_estimators = 100, random_state =1)\n",
    "\n"
   ]
  },
  {
   "cell_type": "code",
   "execution_count": 116,
   "metadata": {},
   "outputs": [],
   "source": [
    "#fit model\n",
    "rf_model = rf_model.fit(X_train, y_train)\n",
    "#make predictions\n",
    "predictions = rf_model.predict(X_test)\n"
   ]
  },
  {
   "cell_type": "code",
   "execution_count": 117,
   "metadata": {},
   "outputs": [
    {
     "data": {
      "text/plain": [
       "0.8218541121766928"
      ]
     },
     "execution_count": 117,
     "metadata": {},
     "output_type": "execute_result"
    }
   ],
   "source": [
    "# Calculated the balanced accuracy score\n",
    "acc_score = accuracy_score(y_test, predictions)\n",
    "acc_score"
   ]
  },
  {
   "cell_type": "code",
   "execution_count": 130,
   "metadata": {},
   "outputs": [
    {
     "data": {
      "text/html": [
       "<div>\n",
       "<style scoped>\n",
       "    .dataframe tbody tr th:only-of-type {\n",
       "        vertical-align: middle;\n",
       "    }\n",
       "\n",
       "    .dataframe tbody tr th {\n",
       "        vertical-align: top;\n",
       "    }\n",
       "\n",
       "    .dataframe thead th {\n",
       "        text-align: right;\n",
       "    }\n",
       "</style>\n",
       "<table border=\"1\" class=\"dataframe\">\n",
       "  <thead>\n",
       "    <tr style=\"text-align: right;\">\n",
       "      <th></th>\n",
       "      <th>Predicated 0</th>\n",
       "      <th>Predicted 1</th>\n",
       "    </tr>\n",
       "  </thead>\n",
       "  <tbody>\n",
       "    <tr>\n",
       "      <th>actual 0</th>\n",
       "      <td>62</td>\n",
       "      <td>39</td>\n",
       "    </tr>\n",
       "    <tr>\n",
       "      <th>1</th>\n",
       "      <td>3026</td>\n",
       "      <td>14078</td>\n",
       "    </tr>\n",
       "  </tbody>\n",
       "</table>\n",
       "</div>"
      ],
      "text/plain": [
       "          Predicated 0   Predicted 1\n",
       "actual 0             62           39\n",
       "1                  3026        14078"
      ]
     },
     "execution_count": 130,
     "metadata": {},
     "output_type": "execute_result"
    }
   ],
   "source": [
    "# Display the confusion matrix\n",
    "cm = confusion_matrix(y_test, predictions)\n",
    "cm_df = pd.DataFrame(cm, index = [\"actual 0\", \"1\"], columns = [\"Predicated 0 \", \"Predicted 1\"])\n",
    "cm_df"
   ]
  },
  {
   "cell_type": "code",
   "execution_count": 119,
   "metadata": {},
   "outputs": [
    {
     "name": "stdout",
     "output_type": "stream",
     "text": [
      "                   pre       rec       spe        f1       geo       iba       sup\n",
      "\n",
      "  high_risk       0.77      0.23      1.00      0.35      0.48      0.21       101\n",
      "   low_risk       1.00      1.00      0.23      1.00      0.48      0.25     17104\n",
      "\n",
      "avg / total       0.99      1.00      0.23      0.99      0.48      0.24     17205\n",
      "\n"
     ]
    }
   ],
   "source": [
    "# Print the imbalanced classification report\n",
    "print(classification_report_imbalanced(y_test, y_pred))"
   ]
  },
  {
   "cell_type": "code",
   "execution_count": 120,
   "metadata": {},
   "outputs": [
    {
     "data": {
      "text/plain": [
       "[(0.08504256720955392, 'total_pymnt'),\n",
       " (0.07778377861955971, 'total_rec_prncp'),\n",
       " (0.06492868386072663, 'last_pymnt_amnt'),\n",
       " (0.055430178760801585, 'total_rec_int'),\n",
       " (0.035550464461343, 'int_rate'),\n",
       " (0.01946953188527412, 'out_prncp'),\n",
       " (0.01941774227105081, 'bc_open_to_buy'),\n",
       " (0.0193406048744143, 'total_bc_limit'),\n",
       " (0.018753010918536258, 'annual_inc'),\n",
       " (0.017778815819186593, 'total_rev_hi_lim'),\n",
       " (0.017324074612356997, 'mo_sin_old_il_acct'),\n",
       " (0.01725477801349016, 'mths_since_recent_inq'),\n",
       " (0.017196545553865697, 'installment'),\n",
       " (0.017011344493404204, 'revol_bal'),\n",
       " (0.016833995952795024, 'dti'),\n",
       " (0.01648351325281806, 'max_bal_bc'),\n",
       " (0.016217566189621127, 'mo_sin_old_rev_tl_op'),\n",
       " (0.01619139056846755, 'total_bal_ex_mort'),\n",
       " (0.01554689862789483, 'il_util'),\n",
       " (0.01513365456543744, 'avg_cur_bal'),\n",
       " (0.015120525974111254, 'mths_since_rcnt_il'),\n",
       " (0.01472119732983651, 'total_il_high_credit_limit'),\n",
       " (0.014719497580377059, 'all_util'),\n",
       " (0.01461075266140914, 'tot_hi_cred_lim'),\n",
       " (0.014102990431398323, 'total_bal_il'),\n",
       " (0.013909750137593943, 'tot_cur_bal'),\n",
       " (0.01331041262832606, 'num_rev_accts'),\n",
       " (0.013035512255037303, 'mo_sin_rcnt_rev_tl_op'),\n",
       " (0.012940639615447756, 'inq_last_12m'),\n",
       " (0.012820343358477418, 'bc_util'),\n",
       " (0.012768696533993514, 'num_bc_tl'),\n",
       " (0.012740888693005468, 'loan_amnt'),\n",
       " (0.012182256747276774, 'total_acc'),\n",
       " (0.011619150264951037, 'num_tl_op_past_12m'),\n",
       " (0.011535821437434814, 'mths_since_recent_bc'),\n",
       " (0.011475395847088718, 'num_il_tl'),\n",
       " (0.01022605254723427, 'num_op_rev_tl'),\n",
       " (0.009390569340174707, 'total_rec_late_fee'),\n",
       " (0.009354240616335214, 'acc_open_past_24mths'),\n",
       " (0.009277253342165554, 'mo_sin_rcnt_tl'),\n",
       " (0.009027424398887717, 'open_acc'),\n",
       " (0.009022741445120545, 'pct_tl_nvr_dlq'),\n",
       " (0.008843885159950281, 'open_il_24m'),\n",
       " (0.008695874933098235, 'total_cu_tl'),\n",
       " (0.008642147736290127, 'num_sats'),\n",
       " (0.008640570140295421, 'num_actv_bc_tl'),\n",
       " (0.008298527006145869, 'num_actv_rev_tl'),\n",
       " (0.008219640982298455, 'percent_bc_gt_75'),\n",
       " (0.007938685530083155, 'num_rev_tl_bal_gt_0'),\n",
       " (0.0078782345355412, 'open_act_il'),\n",
       " (0.007657333877323639, 'open_rv_24m'),\n",
       " (0.007619105597432454, 'inq_fi'),\n",
       " (0.0073375946514450925, 'tot_coll_amt'),\n",
       " (0.006896467822357453, 'open_acc_6m'),\n",
       " (0.0068507293986466026, 'num_bc_sats'),\n",
       " (0.006289103902524967, 'inq_last_6mths'),\n",
       " (0.006094877674933757, 'open_il_12m'),\n",
       " (0.006079462094290508, 'delinq_2yrs'),\n",
       " (0.004805921700524636, 'open_rv_12m'),\n",
       " (0.004614763713177707, 'verification_status'),\n",
       " (0.003955726536038748, 'mort_acc'),\n",
       " (0.003772065794189536, 'home_ownership'),\n",
       " (0.0028652803863417897, 'num_accts_ever_120_pd'),\n",
       " (0.002818928441767671, 'application_type'),\n",
       " (0.0024638383498574445, 'pub_rec_bankruptcies'),\n",
       " (0.0020581769755968005, 'pub_rec'),\n",
       " (0.0017922404206661166, 'initial_list_status'),\n",
       " (0.001701387438881555, 'num_tl_90g_dpd_24m'),\n",
       " (0.0005275009008451052, 'collections_12_mths_ex_med'),\n",
       " (4.067460317460318e-05, 'chargeoff_within_12_mths'),\n",
       " (0.0, 'tax_liens'),\n",
       " (0.0, 'recoveries'),\n",
       " (0.0, 'pymnt_plan'),\n",
       " (0.0, 'policy_code'),\n",
       " (0.0, 'num_tl_30dpd'),\n",
       " (0.0, 'num_tl_120dpd_2m'),\n",
       " (0.0, 'hardship_flag'),\n",
       " (0.0, 'delinq_amnt'),\n",
       " (0.0, 'debt_settlement_flag'),\n",
       " (0.0, 'collection_recovery_fee'),\n",
       " (0.0, 'acc_now_delinq')]"
      ]
     },
     "execution_count": 120,
     "metadata": {},
     "output_type": "execute_result"
    }
   ],
   "source": [
    "# List the features sorted in descending order by feature importance\n",
    "importances = rf_model.feature_importances_\n",
    "#sort \n",
    "sorted(zip(rf_model.feature_importances_, X.columns), reverse=True)\n",
    "\n"
   ]
  },
  {
   "cell_type": "markdown",
   "metadata": {},
   "source": [
    "### Easy Ensemble AdaBoost Classifier"
   ]
  },
  {
   "cell_type": "code",
   "execution_count": 121,
   "metadata": {},
   "outputs": [],
   "source": [
    "# Train the EasyEnsembleClassifier\n",
    "from sklearn.ensemble import AdaBoostClassifier\n",
    "\n",
    "abc = AdaBoostClassifier(n_estimators=100,learning_rate=1)\n",
    "model = abc.fit(X_train, y_train)\n",
    "y_pred = model.predict(X_test)"
   ]
  },
  {
   "cell_type": "code",
   "execution_count": 122,
   "metadata": {},
   "outputs": [
    {
     "data": {
      "text/plain": [
       "0.995059575704737"
      ]
     },
     "execution_count": 122,
     "metadata": {},
     "output_type": "execute_result"
    }
   ],
   "source": [
    "# Calculated the balanced accuracy score\n",
    "acc_score = accuracy_score(y_test, y_pred)\n",
    "acc_score"
   ]
  },
  {
   "cell_type": "code",
   "execution_count": 129,
   "metadata": {},
   "outputs": [
    {
     "data": {
      "text/html": [
       "<div>\n",
       "<style scoped>\n",
       "    .dataframe tbody tr th:only-of-type {\n",
       "        vertical-align: middle;\n",
       "    }\n",
       "\n",
       "    .dataframe tbody tr th {\n",
       "        vertical-align: top;\n",
       "    }\n",
       "\n",
       "    .dataframe thead th {\n",
       "        text-align: right;\n",
       "    }\n",
       "</style>\n",
       "<table border=\"1\" class=\"dataframe\">\n",
       "  <thead>\n",
       "    <tr style=\"text-align: right;\">\n",
       "      <th></th>\n",
       "      <th>Predicated 0</th>\n",
       "      <th>Predicted 1</th>\n",
       "    </tr>\n",
       "  </thead>\n",
       "  <tbody>\n",
       "    <tr>\n",
       "      <th>Actual 0</th>\n",
       "      <td>23</td>\n",
       "      <td>78</td>\n",
       "    </tr>\n",
       "    <tr>\n",
       "      <th>Actual 1</th>\n",
       "      <td>7</td>\n",
       "      <td>17097</td>\n",
       "    </tr>\n",
       "  </tbody>\n",
       "</table>\n",
       "</div>"
      ],
      "text/plain": [
       "           Predicated 0  Predicted 1\n",
       "Actual 0             23           78\n",
       "Actual 1              7        17097"
      ]
     },
     "execution_count": 129,
     "metadata": {},
     "output_type": "execute_result"
    }
   ],
   "source": [
    "cm = confusion_matrix(y_test, y_pred)  #create a DF from cm\n",
    "cm_df = pd.DataFrame(cm, index = [\"Actual 0\", \"Actual 1 \"], columns = [\"Predicated 0\", \"Predicted 1\"])\n",
    "cm_df"
   ]
  },
  {
   "cell_type": "code",
   "execution_count": 124,
   "metadata": {},
   "outputs": [
    {
     "name": "stdout",
     "output_type": "stream",
     "text": [
      "Classification Report\n",
      "              precision    recall  f1-score   support\n",
      "\n",
      "   high_risk       0.02      0.61      0.04       101\n",
      "    low_risk       1.00      0.82      0.90     17104\n",
      "\n",
      "    accuracy                           0.82     17205\n",
      "   macro avg       0.51      0.72      0.47     17205\n",
      "weighted avg       0.99      0.82      0.90     17205\n",
      "\n"
     ]
    }
   ],
   "source": [
    "# Print the imbalanced classification report\n",
    "print(\"Classification Report\")\n",
    "print(classification_report(y_test, predictions))"
   ]
  },
  {
   "cell_type": "code",
   "execution_count": 125,
   "metadata": {},
   "outputs": [
    {
     "data": {
      "text/plain": [
       "[(0.08504256720955392, 'total_pymnt'),\n",
       " (0.07778377861955971, 'total_rec_prncp'),\n",
       " (0.06492868386072663, 'last_pymnt_amnt'),\n",
       " (0.055430178760801585, 'total_rec_int'),\n",
       " (0.035550464461343, 'int_rate'),\n",
       " (0.01946953188527412, 'out_prncp'),\n",
       " (0.01941774227105081, 'bc_open_to_buy'),\n",
       " (0.0193406048744143, 'total_bc_limit'),\n",
       " (0.018753010918536258, 'annual_inc'),\n",
       " (0.017778815819186593, 'total_rev_hi_lim'),\n",
       " (0.017324074612356997, 'mo_sin_old_il_acct'),\n",
       " (0.01725477801349016, 'mths_since_recent_inq'),\n",
       " (0.017196545553865697, 'installment'),\n",
       " (0.017011344493404204, 'revol_bal'),\n",
       " (0.016833995952795024, 'dti'),\n",
       " (0.01648351325281806, 'max_bal_bc'),\n",
       " (0.016217566189621127, 'mo_sin_old_rev_tl_op'),\n",
       " (0.01619139056846755, 'total_bal_ex_mort'),\n",
       " (0.01554689862789483, 'il_util'),\n",
       " (0.01513365456543744, 'avg_cur_bal'),\n",
       " (0.015120525974111254, 'mths_since_rcnt_il'),\n",
       " (0.01472119732983651, 'total_il_high_credit_limit'),\n",
       " (0.014719497580377059, 'all_util'),\n",
       " (0.01461075266140914, 'tot_hi_cred_lim'),\n",
       " (0.014102990431398323, 'total_bal_il'),\n",
       " (0.013909750137593943, 'tot_cur_bal'),\n",
       " (0.01331041262832606, 'num_rev_accts'),\n",
       " (0.013035512255037303, 'mo_sin_rcnt_rev_tl_op'),\n",
       " (0.012940639615447756, 'inq_last_12m'),\n",
       " (0.012820343358477418, 'bc_util'),\n",
       " (0.012768696533993514, 'num_bc_tl'),\n",
       " (0.012740888693005468, 'loan_amnt'),\n",
       " (0.012182256747276774, 'total_acc'),\n",
       " (0.011619150264951037, 'num_tl_op_past_12m'),\n",
       " (0.011535821437434814, 'mths_since_recent_bc'),\n",
       " (0.011475395847088718, 'num_il_tl'),\n",
       " (0.01022605254723427, 'num_op_rev_tl'),\n",
       " (0.009390569340174707, 'total_rec_late_fee'),\n",
       " (0.009354240616335214, 'acc_open_past_24mths'),\n",
       " (0.009277253342165554, 'mo_sin_rcnt_tl'),\n",
       " (0.009027424398887717, 'open_acc'),\n",
       " (0.009022741445120545, 'pct_tl_nvr_dlq'),\n",
       " (0.008843885159950281, 'open_il_24m'),\n",
       " (0.008695874933098235, 'total_cu_tl'),\n",
       " (0.008642147736290127, 'num_sats'),\n",
       " (0.008640570140295421, 'num_actv_bc_tl'),\n",
       " (0.008298527006145869, 'num_actv_rev_tl'),\n",
       " (0.008219640982298455, 'percent_bc_gt_75'),\n",
       " (0.007938685530083155, 'num_rev_tl_bal_gt_0'),\n",
       " (0.0078782345355412, 'open_act_il'),\n",
       " (0.007657333877323639, 'open_rv_24m'),\n",
       " (0.007619105597432454, 'inq_fi'),\n",
       " (0.0073375946514450925, 'tot_coll_amt'),\n",
       " (0.006896467822357453, 'open_acc_6m'),\n",
       " (0.0068507293986466026, 'num_bc_sats'),\n",
       " (0.006289103902524967, 'inq_last_6mths'),\n",
       " (0.006094877674933757, 'open_il_12m'),\n",
       " (0.006079462094290508, 'delinq_2yrs'),\n",
       " (0.004805921700524636, 'open_rv_12m'),\n",
       " (0.004614763713177707, 'verification_status'),\n",
       " (0.003955726536038748, 'mort_acc'),\n",
       " (0.003772065794189536, 'home_ownership'),\n",
       " (0.0028652803863417897, 'num_accts_ever_120_pd'),\n",
       " (0.002818928441767671, 'application_type'),\n",
       " (0.0024638383498574445, 'pub_rec_bankruptcies'),\n",
       " (0.0020581769755968005, 'pub_rec'),\n",
       " (0.0017922404206661166, 'initial_list_status'),\n",
       " (0.001701387438881555, 'num_tl_90g_dpd_24m'),\n",
       " (0.0005275009008451052, 'collections_12_mths_ex_med'),\n",
       " (4.067460317460318e-05, 'chargeoff_within_12_mths'),\n",
       " (0.0, 'tax_liens'),\n",
       " (0.0, 'recoveries'),\n",
       " (0.0, 'pymnt_plan'),\n",
       " (0.0, 'policy_code'),\n",
       " (0.0, 'num_tl_30dpd'),\n",
       " (0.0, 'num_tl_120dpd_2m'),\n",
       " (0.0, 'hardship_flag'),\n",
       " (0.0, 'delinq_amnt'),\n",
       " (0.0, 'debt_settlement_flag'),\n",
       " (0.0, 'collection_recovery_fee'),\n",
       " (0.0, 'acc_now_delinq')]"
      ]
     },
     "execution_count": 125,
     "metadata": {},
     "output_type": "execute_result"
    }
   ],
   "source": [
    "# List the features sorted in descending order by feature importance\n",
    "importances = rf_model.feature_importances_\n",
    "#sort \n",
    "sorted(zip(rf_model.feature_importances_, X.columns), reverse=True)\n"
   ]
  },
  {
   "cell_type": "code",
   "execution_count": null,
   "metadata": {},
   "outputs": [],
   "source": []
  }
 ],
 "metadata": {
  "kernelspec": {
   "display_name": "Python 3",
   "language": "python",
   "name": "python3"
  },
  "language_info": {
   "codemirror_mode": {
    "name": "ipython",
    "version": 3
   },
   "file_extension": ".py",
   "mimetype": "text/x-python",
   "name": "python",
   "nbconvert_exporter": "python",
   "pygments_lexer": "ipython3",
   "version": "3.8.3"
  }
 },
 "nbformat": 4,
 "nbformat_minor": 2
}
